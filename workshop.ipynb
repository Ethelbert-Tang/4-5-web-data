{
 "cells": [
  {
   "cell_type": "code",
   "execution_count": 1,
   "metadata": {},
   "outputs": [],
   "source": [
    "import requests\n",
    "import json\n",
    "from bs4 import BeautifulSoup\n",
    "import pandas as pd\n",
    "from collections import Counter"
   ]
  },
  {
   "cell_type": "markdown",
   "metadata": {},
   "source": [
    "# 1. Twitch API data\n",
    "\n",
    "The URL `https://wind-bow.glitch.me/twitch-api/channels/{CHANNEL_NAME}` is an API from twitch to get data from twitch channels.\n",
    "\n",
    "Get the data from the following channels:\n",
    "\n",
    "```\n",
    "[\"ESL_SC2\", \"OgamingSC2\", \"cretetion\", \"freecodecamp\", \n",
    "    \"storbeck\", \"habathcx\", \"RobotCaleb\", \"noobs2ninjas\",\n",
    "    \"ninja\", \"shroud\", \"Dakotaz\", \"esltv_cs\", \"pokimane\", \n",
    "    \"tsm_bjergsen\", \"boxbox\", \"wtcn\", \"a_seagull\",\n",
    "    \"kinggothalion\", \"amazhs\", \"jahrein\", \"thenadeshot\", \n",
    "    \"sivhd\", \"kingrichard\"]\n",
    "```\n",
    "\n",
    "To make into a dataframe that looks like this:\n",
    "\n",
    "![](twitch.png)"
   ]
  },
  {
   "cell_type": "code",
   "execution_count": 2,
   "metadata": {},
   "outputs": [
    {
     "data": {
      "text/html": [
       "<div>\n",
       "<style scoped>\n",
       "    .dataframe tbody tr th:only-of-type {\n",
       "        vertical-align: middle;\n",
       "    }\n",
       "\n",
       "    .dataframe tbody tr th {\n",
       "        vertical-align: top;\n",
       "    }\n",
       "\n",
       "    .dataframe thead th {\n",
       "        text-align: right;\n",
       "    }\n",
       "</style>\n",
       "<table border=\"1\" class=\"dataframe\">\n",
       "  <thead>\n",
       "    <tr style=\"text-align: right;\">\n",
       "      <th></th>\n",
       "      <th>_id</th>\n",
       "      <th>display_name</th>\n",
       "      <th>followers</th>\n",
       "      <th>status</th>\n",
       "      <th>views</th>\n",
       "    </tr>\n",
       "  </thead>\n",
       "  <tbody>\n",
       "    <tr>\n",
       "      <th>0</th>\n",
       "      <td>30220059.0</td>\n",
       "      <td>ESL_SC2</td>\n",
       "      <td>135394.0</td>\n",
       "      <td>RERUN: StarCraft 2 - Terminator vs. Parting (P...</td>\n",
       "      <td>60991791.0</td>\n",
       "    </tr>\n",
       "    <tr>\n",
       "      <th>1</th>\n",
       "      <td>71852806.0</td>\n",
       "      <td>OgamingSC2</td>\n",
       "      <td>40895.0</td>\n",
       "      <td>UnderDogs - Rediffusion - Qualifier.</td>\n",
       "      <td>20694507.0</td>\n",
       "    </tr>\n",
       "    <tr>\n",
       "      <th>2</th>\n",
       "      <td>90401618.0</td>\n",
       "      <td>cretetion</td>\n",
       "      <td>908.0</td>\n",
       "      <td>It's a Divison kind of Day</td>\n",
       "      <td>11631.0</td>\n",
       "    </tr>\n",
       "    <tr>\n",
       "      <th>3</th>\n",
       "      <td>79776140.0</td>\n",
       "      <td>FreeCodeCamp</td>\n",
       "      <td>10122.0</td>\n",
       "      <td>Greg working on Electron-Vue boilerplate w/ Ak...</td>\n",
       "      <td>163747.0</td>\n",
       "    </tr>\n",
       "    <tr>\n",
       "      <th>5</th>\n",
       "      <td>6726509.0</td>\n",
       "      <td>Habathcx</td>\n",
       "      <td>14.0</td>\n",
       "      <td>Massively Effective</td>\n",
       "      <td>764.0</td>\n",
       "    </tr>\n",
       "    <tr>\n",
       "      <th>6</th>\n",
       "      <td>54925078.0</td>\n",
       "      <td>RobotCaleb</td>\n",
       "      <td>20.0</td>\n",
       "      <td>Code wrangling</td>\n",
       "      <td>4602.0</td>\n",
       "    </tr>\n",
       "    <tr>\n",
       "      <th>7</th>\n",
       "      <td>82534701.0</td>\n",
       "      <td>noobs2ninjas</td>\n",
       "      <td>835.0</td>\n",
       "      <td>Building a new hackintosh for #programming and...</td>\n",
       "      <td>48102.0</td>\n",
       "    </tr>\n",
       "  </tbody>\n",
       "</table>\n",
       "</div>"
      ],
      "text/plain": [
       "          _id  display_name  followers  \\\n",
       "0  30220059.0       ESL_SC2   135394.0   \n",
       "1  71852806.0    OgamingSC2    40895.0   \n",
       "2  90401618.0     cretetion      908.0   \n",
       "3  79776140.0  FreeCodeCamp    10122.0   \n",
       "5   6726509.0      Habathcx       14.0   \n",
       "6  54925078.0    RobotCaleb       20.0   \n",
       "7  82534701.0  noobs2ninjas      835.0   \n",
       "\n",
       "                                              status       views  \n",
       "0  RERUN: StarCraft 2 - Terminator vs. Parting (P...  60991791.0  \n",
       "1               UnderDogs - Rediffusion - Qualifier.  20694507.0  \n",
       "2                         It's a Divison kind of Day     11631.0  \n",
       "3  Greg working on Electron-Vue boilerplate w/ Ak...    163747.0  \n",
       "5                                Massively Effective       764.0  \n",
       "6                                     Code wrangling      4602.0  \n",
       "7  Building a new hackintosh for #programming and...     48102.0  "
      ]
     },
     "execution_count": 2,
     "metadata": {},
     "output_type": "execute_result"
    }
   ],
   "source": [
    "df = pd.DataFrame()\n",
    "urls = [\"ESL_SC2\", \"OgamingSC2\", \"cretetion\", \"freecodecamp\", \n",
    "    \"storbeck\", \"habathcx\", \"RobotCaleb\", \"noobs2ninjas\",\n",
    "    \"ninja\", \"shroud\", \"Dakotaz\", \"esltv_cs\", \"pokimane\", \n",
    "    \"tsm_bjergsen\", \"boxbox\", \"wtcn\", \"a_seagull\",\n",
    "    \"kinggothalion\", \"amazhs\", \"jahrein\", \"thenadeshot\", \n",
    "    \"sivhd\", \"kingrichard\"]\n",
    "for i in range(0, len(urls)):\n",
    "    \n",
    "    url = 'https://wind-bow.glitch.me/twitch-api/channels/'+urls[i]\n",
    "    \n",
    "    page = requests.get(url)\n",
    "    \n",
    "    site = json.loads(page.content)\n",
    "    \n",
    "    res = {key: site[key] for key in site.keys() \n",
    "                                   & {'_id', 'display_name', 'status', 'followers', 'views'}}\n",
    "    \n",
    "    df = df.append(res, ignore_index=True)\n",
    "    \n",
    "df.dropna()  ##dropping all the unavailable streamers"
   ]
  },
  {
   "cell_type": "markdown",
   "metadata": {},
   "source": [
    "# 2. App Store Reviews\n",
    "\n",
    "The Apple app store has a `GET` API to get reviews on apps. The URL is:\n",
    "\n",
    "```\n",
    "https://itunes.apple.com/{COUNTRY_CODE}/rss/customerreviews/id={APP_ID_HERE}/page={PAGE_NUMBER}/sortby=mostrecent/json\n",
    "```\n",
    "\n",
    "Note that you need to provide:\n",
    "\n",
    "- The country code (eg. `'us'`, `'gb'`, `'ca'`, `'au'`) \n",
    "\n",
    "- The app ID. This can be found in the web page for the app right after `id`. For instance, Candy Crush's US webpage is:\n",
    "\n",
    "`https://apps.apple.com/us/app/candy-crush-saga/id553834731`\n",
    "\n",
    "So here the ID would be `553834731`.\n",
    "\n",
    "- The \"Page Number\". The request responds with multiple pages of data, but sends them one at a time. So you can cycle through the data pages for any app on any country.\n",
    "\n",
    "### 2.1 English app reviews\n",
    "\n",
    "Get all english reviews you can for Candy Crush, Tinder, the Facebook app and Twitter (you have to get them from all the english-speaking countries you can think of!).\n",
    "\n",
    "### 2.2 Best version\n",
    "\n",
    "For each app, get the version that is the best rated.\n",
    "\n",
    "Make a visualization of the ratings per versions per app to show this.\n",
    "\n",
    "### 2.3 Top words\n",
    "\n",
    "Which word for each app is most common in the 5 star and in the 1-star review's titles?\n",
    "|\n",
    "Note: `df.title.str.get_dummies()` is your friend\n",
    "\n",
    "Note: This might create a lot of data! Try to break down your analysis in chunks if it doesn't work."
   ]
  },
  {
   "cell_type": "code",
   "execution_count": 3,
   "metadata": {
    "scrolled": false
   },
   "outputs": [
    {
     "data": {
      "text/html": [
       "<div>\n",
       "<style scoped>\n",
       "    .dataframe tbody tr th:only-of-type {\n",
       "        vertical-align: middle;\n",
       "    }\n",
       "\n",
       "    .dataframe tbody tr th {\n",
       "        vertical-align: top;\n",
       "    }\n",
       "\n",
       "    .dataframe thead th {\n",
       "        text-align: right;\n",
       "    }\n",
       "</style>\n",
       "<table border=\"1\" class=\"dataframe\">\n",
       "  <thead>\n",
       "    <tr style=\"text-align: right;\">\n",
       "      <th></th>\n",
       "      <th>app</th>\n",
       "      <th>title</th>\n",
       "      <th>author</th>\n",
       "      <th>rating</th>\n",
       "      <th>review</th>\n",
       "      <th>version</th>\n",
       "    </tr>\n",
       "  </thead>\n",
       "  <tbody>\n",
       "    <tr>\n",
       "      <th>0</th>\n",
       "      <td>Candy Crush</td>\n",
       "      <td>Candy crush</td>\n",
       "      <td>Janet35kiley</td>\n",
       "      <td>4</td>\n",
       "      <td>Level 1877 is the worst level I have ever play...</td>\n",
       "      <td>1.196.0.1</td>\n",
       "    </tr>\n",
       "    <tr>\n",
       "      <th>1</th>\n",
       "      <td>Candy Crush</td>\n",
       "      <td>Gold bars for races</td>\n",
       "      <td>Anonymous22334455</td>\n",
       "      <td>3</td>\n",
       "      <td>I don’t like how you guys changed the prized f...</td>\n",
       "      <td>1.196.0.1</td>\n",
       "    </tr>\n",
       "    <tr>\n",
       "      <th>2</th>\n",
       "      <td>Candy Crush</td>\n",
       "      <td>Love the Game BUT</td>\n",
       "      <td>King queen ruler of Bananas</td>\n",
       "      <td>5</td>\n",
       "      <td>Membro Quit asking for life you make the game ...</td>\n",
       "      <td>1.196.0.1</td>\n",
       "    </tr>\n",
       "    <tr>\n",
       "      <th>3</th>\n",
       "      <td>Candy Crush</td>\n",
       "      <td>They just want you to spend lots of money.</td>\n",
       "      <td>Preet2021</td>\n",
       "      <td>1</td>\n",
       "      <td>I am not going to spend a single penny for stu...</td>\n",
       "      <td>1.196.0.1</td>\n",
       "    </tr>\n",
       "    <tr>\n",
       "      <th>4</th>\n",
       "      <td>Candy Crush</td>\n",
       "      <td>15 m !!!!!!!</td>\n",
       "      <td>fodfjjj</td>\n",
       "      <td>1</td>\n",
       "      <td>Il faut atantdre un 15 m a la con pour se juex...</td>\n",
       "      <td>1.196.0.1</td>\n",
       "    </tr>\n",
       "    <tr>\n",
       "      <th>...</th>\n",
       "      <td>...</td>\n",
       "      <td>...</td>\n",
       "      <td>...</td>\n",
       "      <td>...</td>\n",
       "      <td>...</td>\n",
       "      <td>...</td>\n",
       "    </tr>\n",
       "    <tr>\n",
       "      <th>10795</th>\n",
       "      <td>Twitter</td>\n",
       "      <td>تويتر</td>\n",
       "      <td>معاذ 1994</td>\n",
       "      <td>1</td>\n",
       "      <td>اصدار سيء جداً</td>\n",
       "      <td>6.1</td>\n",
       "    </tr>\n",
       "    <tr>\n",
       "      <th>10796</th>\n",
       "      <td>Twitter</td>\n",
       "      <td>Tweet this</td>\n",
       "      <td>Taknz123</td>\n",
       "      <td>5</td>\n",
       "      <td>Twitter app works a charm on 4-5s I love it, i...</td>\n",
       "      <td>6.1</td>\n",
       "    </tr>\n",
       "    <tr>\n",
       "      <th>10797</th>\n",
       "      <td>Twitter</td>\n",
       "      <td>Good</td>\n",
       "      <td>AboRanim</td>\n",
       "      <td>5</td>\n",
       "      <td>Good</td>\n",
       "      <td>6.1</td>\n",
       "    </tr>\n",
       "    <tr>\n",
       "      <th>10798</th>\n",
       "      <td>Twitter</td>\n",
       "      <td>Great!!!</td>\n",
       "      <td>Mad-Hatter13</td>\n",
       "      <td>5</td>\n",
       "      <td>This is a great app! Simple but great and gets...</td>\n",
       "      <td>6.1</td>\n",
       "    </tr>\n",
       "    <tr>\n",
       "      <th>10799</th>\n",
       "      <td>Twitter</td>\n",
       "      <td>Thanks</td>\n",
       "      <td>Epic_writers</td>\n",
       "      <td>5</td>\n",
       "      <td>Thank you twitter for giving us this site. I p...</td>\n",
       "      <td>6.1</td>\n",
       "    </tr>\n",
       "  </tbody>\n",
       "</table>\n",
       "<p>10800 rows × 6 columns</p>\n",
       "</div>"
      ],
      "text/plain": [
       "               app                                       title  \\\n",
       "0      Candy Crush                                 Candy crush   \n",
       "1      Candy Crush                         Gold bars for races   \n",
       "2      Candy Crush                           Love the Game BUT   \n",
       "3      Candy Crush  They just want you to spend lots of money.   \n",
       "4      Candy Crush                                15 m !!!!!!!   \n",
       "...            ...                                         ...   \n",
       "10795      Twitter                                       تويتر   \n",
       "10796      Twitter                                  Tweet this   \n",
       "10797      Twitter                                        Good   \n",
       "10798      Twitter                                    Great!!!   \n",
       "10799      Twitter                                      Thanks   \n",
       "\n",
       "                            author  rating  \\\n",
       "0                     Janet35kiley       4   \n",
       "1                Anonymous22334455       3   \n",
       "2      King queen ruler of Bananas       5   \n",
       "3                        Preet2021       1   \n",
       "4                          fodfjjj       1   \n",
       "...                            ...     ...   \n",
       "10795                    معاذ 1994       1   \n",
       "10796                     Taknz123       5   \n",
       "10797                     AboRanim       5   \n",
       "10798                 Mad-Hatter13       5   \n",
       "10799                 Epic_writers       5   \n",
       "\n",
       "                                                  review    version  \n",
       "0      Level 1877 is the worst level I have ever play...  1.196.0.1  \n",
       "1      I don’t like how you guys changed the prized f...  1.196.0.1  \n",
       "2      Membro Quit asking for life you make the game ...  1.196.0.1  \n",
       "3      I am not going to spend a single penny for stu...  1.196.0.1  \n",
       "4      Il faut atantdre un 15 m a la con pour se juex...  1.196.0.1  \n",
       "...                                                  ...        ...  \n",
       "10795                                     اصدار سيء جداً        6.1  \n",
       "10796  Twitter app works a charm on 4-5s I love it, i...        6.1  \n",
       "10797                                               Good        6.1  \n",
       "10798  This is a great app! Simple but great and gets...        6.1  \n",
       "10799  Thank you twitter for giving us this site. I p...        6.1  \n",
       "\n",
       "[10800 rows x 6 columns]"
      ]
     },
     "execution_count": 3,
     "metadata": {},
     "output_type": "execute_result"
    }
   ],
   "source": [
    "df_reviews = pd.DataFrame(columns = ['app', 'title', 'author', 'rating', 'review', 'version'])\n",
    "\n",
    "countries = [\"ca\", \"us\", \"gb\", \"au\", \"ie\", \"nz\"]\n",
    "apps = [553834731, 547702041, 284882215, 333903271]\n",
    "\n",
    "for app in apps:\n",
    "    for country in countries:\n",
    "        for page in range(1, 10):\n",
    "            ## tried to go past page 10 but jupyter bugged out every time :/\n",
    "            url = \"https://itunes.apple.com/%s/rss/customerreviews/id=%d/page=%d/sortby=mostrecent/json\" % (country, app, page)\n",
    "            page = requests.get(url)\n",
    "            site = json.loads(page.content)\n",
    "            data = site.get(\"feed\").get(\"entry\")\n",
    "            if data == None:\n",
    "                continue\n",
    "\n",
    "            for i in range(0, len(data)):\n",
    "                if data[i].get('im:name'): continue\n",
    "\n",
    "                title = data[i].get('title').get('label')\n",
    "                author = data[i].get('author').get('name').get('label')\n",
    "                rating = data[i].get('im:rating').get('label')\n",
    "                review = data[i].get('content').get('label')\n",
    "                version = data[i].get('im:version').get('label')\n",
    "                new_row = {'app':app, 'title':title, 'author':author, 'rating':rating, 'review':review, 'version':version}\n",
    "                df_reviews = df_reviews.append(new_row, ignore_index=True)\n",
    "                continue\n",
    "\n",
    "df_reviews.loc[df_reviews.app == 553834731, 'app'] = \"Candy Crush\"\n",
    "df_reviews.loc[df_reviews.app == 547702041, 'app'] = \"Tinder\"\n",
    "df_reviews.loc[df_reviews.app == 284882215, 'app'] = \"Facebook\"\n",
    "df_reviews.loc[df_reviews.app == 333903271, 'app'] = \"Twitter\"\n",
    "df_reviews.rating = df_reviews.rating.astype(int)\n",
    "df_reviews"
   ]
  },
  {
   "cell_type": "code",
   "execution_count": 4,
   "metadata": {
    "scrolled": true
   },
   "outputs": [
    {
     "data": {
      "text/html": [
       "<div>\n",
       "<style scoped>\n",
       "    .dataframe tbody tr th:only-of-type {\n",
       "        vertical-align: middle;\n",
       "    }\n",
       "\n",
       "    .dataframe tbody tr th {\n",
       "        vertical-align: top;\n",
       "    }\n",
       "\n",
       "    .dataframe thead th {\n",
       "        text-align: right;\n",
       "    }\n",
       "</style>\n",
       "<table border=\"1\" class=\"dataframe\">\n",
       "  <thead>\n",
       "    <tr style=\"text-align: right;\">\n",
       "      <th></th>\n",
       "      <th>rating</th>\n",
       "    </tr>\n",
       "    <tr>\n",
       "      <th>version</th>\n",
       "      <th></th>\n",
       "    </tr>\n",
       "  </thead>\n",
       "  <tbody>\n",
       "    <tr>\n",
       "      <th>1.150.1</th>\n",
       "      <td>5.000000</td>\n",
       "    </tr>\n",
       "    <tr>\n",
       "      <th>1.151.0</th>\n",
       "      <td>5.000000</td>\n",
       "    </tr>\n",
       "    <tr>\n",
       "      <th>1.105.1</th>\n",
       "      <td>5.000000</td>\n",
       "    </tr>\n",
       "    <tr>\n",
       "      <th>1.90.1</th>\n",
       "      <td>5.000000</td>\n",
       "    </tr>\n",
       "    <tr>\n",
       "      <th>1.106.0</th>\n",
       "      <td>5.000000</td>\n",
       "    </tr>\n",
       "    <tr>\n",
       "      <th>...</th>\n",
       "      <td>...</td>\n",
       "    </tr>\n",
       "    <tr>\n",
       "      <th>1.147.0</th>\n",
       "      <td>2.666667</td>\n",
       "    </tr>\n",
       "    <tr>\n",
       "      <th>1.165.2</th>\n",
       "      <td>2.416667</td>\n",
       "    </tr>\n",
       "    <tr>\n",
       "      <th>1.169.1.1</th>\n",
       "      <td>2.375000</td>\n",
       "    </tr>\n",
       "    <tr>\n",
       "      <th>1.159.0</th>\n",
       "      <td>2.166667</td>\n",
       "    </tr>\n",
       "    <tr>\n",
       "      <th>1.107.2</th>\n",
       "      <td>2.000000</td>\n",
       "    </tr>\n",
       "  </tbody>\n",
       "</table>\n",
       "<p>102 rows × 1 columns</p>\n",
       "</div>"
      ],
      "text/plain": [
       "             rating\n",
       "version            \n",
       "1.150.1    5.000000\n",
       "1.151.0    5.000000\n",
       "1.105.1    5.000000\n",
       "1.90.1     5.000000\n",
       "1.106.0    5.000000\n",
       "...             ...\n",
       "1.147.0    2.666667\n",
       "1.165.2    2.416667\n",
       "1.169.1.1  2.375000\n",
       "1.159.0    2.166667\n",
       "1.107.2    2.000000\n",
       "\n",
       "[102 rows x 1 columns]"
      ]
     },
     "execution_count": 4,
     "metadata": {},
     "output_type": "execute_result"
    }
   ],
   "source": [
    "df_reviews.loc[df_reviews.app == \"Candy Crush\"].groupby(by=['version']).mean().sort_values(by=['rating'], ascending=False)"
   ]
  },
  {
   "cell_type": "code",
   "execution_count": 5,
   "metadata": {},
   "outputs": [
    {
     "data": {
      "text/plain": [
       "<AxesSubplot:xlabel='index', ylabel='rating'>"
      ]
     },
     "execution_count": 5,
     "metadata": {},
     "output_type": "execute_result"
    },
    {
     "data": {
      "image/png": "[encoded data removed]",
      "text/plain": [
       "<Figure size 432x288 with 1 Axes>"
      ]
     },
     "metadata": {
      "needs_background": "light"
     },
     "output_type": "display_data"
    }
   ],
   "source": [
    "df_reviews.loc[df_reviews.app == \"Candy Crush\"].groupby(by=['version']).mean().reset_index().reset_index().plot.scatter(x='index', y='rating')"
   ]
  },
  {
   "cell_type": "code",
   "execution_count": 6,
   "metadata": {
    "scrolled": true
   },
   "outputs": [
    {
     "data": {
      "text/html": [
       "<div>\n",
       "<style scoped>\n",
       "    .dataframe tbody tr th:only-of-type {\n",
       "        vertical-align: middle;\n",
       "    }\n",
       "\n",
       "    .dataframe tbody tr th {\n",
       "        vertical-align: top;\n",
       "    }\n",
       "\n",
       "    .dataframe thead th {\n",
       "        text-align: right;\n",
       "    }\n",
       "</style>\n",
       "<table border=\"1\" class=\"dataframe\">\n",
       "  <thead>\n",
       "    <tr style=\"text-align: right;\">\n",
       "      <th></th>\n",
       "      <th>rating</th>\n",
       "    </tr>\n",
       "    <tr>\n",
       "      <th>version</th>\n",
       "      <th></th>\n",
       "    </tr>\n",
       "  </thead>\n",
       "  <tbody>\n",
       "    <tr>\n",
       "      <th>11.0.2</th>\n",
       "      <td>5.000000</td>\n",
       "    </tr>\n",
       "    <tr>\n",
       "      <th>7.8.0</th>\n",
       "      <td>5.000000</td>\n",
       "    </tr>\n",
       "    <tr>\n",
       "      <th>6.6.1</th>\n",
       "      <td>5.000000</td>\n",
       "    </tr>\n",
       "    <tr>\n",
       "      <th>7.3.0</th>\n",
       "      <td>4.800000</td>\n",
       "    </tr>\n",
       "    <tr>\n",
       "      <th>6.9.0</th>\n",
       "      <td>4.333333</td>\n",
       "    </tr>\n",
       "    <tr>\n",
       "      <th>...</th>\n",
       "      <td>...</td>\n",
       "    </tr>\n",
       "    <tr>\n",
       "      <th>8.3.0</th>\n",
       "      <td>1.000000</td>\n",
       "    </tr>\n",
       "    <tr>\n",
       "      <th>11.20.0</th>\n",
       "      <td>1.000000</td>\n",
       "    </tr>\n",
       "    <tr>\n",
       "      <th>8.12.1</th>\n",
       "      <td>1.000000</td>\n",
       "    </tr>\n",
       "    <tr>\n",
       "      <th>11.21.0</th>\n",
       "      <td>1.000000</td>\n",
       "    </tr>\n",
       "    <tr>\n",
       "      <th></th>\n",
       "      <td>1.000000</td>\n",
       "    </tr>\n",
       "  </tbody>\n",
       "</table>\n",
       "<p>138 rows × 1 columns</p>\n",
       "</div>"
      ],
      "text/plain": [
       "           rating\n",
       "version          \n",
       "11.0.2   5.000000\n",
       "7.8.0    5.000000\n",
       "6.6.1    5.000000\n",
       "7.3.0    4.800000\n",
       "6.9.0    4.333333\n",
       "...           ...\n",
       "8.3.0    1.000000\n",
       "11.20.0  1.000000\n",
       "8.12.1   1.000000\n",
       "11.21.0  1.000000\n",
       "         1.000000\n",
       "\n",
       "[138 rows x 1 columns]"
      ]
     },
     "execution_count": 6,
     "metadata": {},
     "output_type": "execute_result"
    }
   ],
   "source": [
    "df_reviews.loc[df_reviews.app == \"Tinder\"].groupby(by=['version']).mean().sort_values(by=['rating'], ascending=False)"
   ]
  },
  {
   "cell_type": "code",
   "execution_count": 7,
   "metadata": {},
   "outputs": [
    {
     "data": {
      "text/plain": [
       "<AxesSubplot:xlabel='index', ylabel='rating'>"
      ]
     },
     "execution_count": 7,
     "metadata": {},
     "output_type": "execute_result"
    },
    {
     "data": {
      "image/png": "[encoded data removed]",
      "text/plain": [
       "<Figure size 432x288 with 1 Axes>"
      ]
     },
     "metadata": {
      "needs_background": "light"
     },
     "output_type": "display_data"
    }
   ],
   "source": [
    "df_reviews.loc[df_reviews.app == \"Tinder\"].groupby(by=['version']).mean().reset_index().reset_index().plot.scatter(x='index', y='rating')"
   ]
  },
  {
   "cell_type": "code",
   "execution_count": 8,
   "metadata": {
    "scrolled": true
   },
   "outputs": [
    {
     "data": {
      "text/html": [
       "<div>\n",
       "<style scoped>\n",
       "    .dataframe tbody tr th:only-of-type {\n",
       "        vertical-align: middle;\n",
       "    }\n",
       "\n",
       "    .dataframe tbody tr th {\n",
       "        vertical-align: top;\n",
       "    }\n",
       "\n",
       "    .dataframe thead th {\n",
       "        text-align: right;\n",
       "    }\n",
       "</style>\n",
       "<table border=\"1\" class=\"dataframe\">\n",
       "  <thead>\n",
       "    <tr style=\"text-align: right;\">\n",
       "      <th></th>\n",
       "      <th>rating</th>\n",
       "    </tr>\n",
       "    <tr>\n",
       "      <th>version</th>\n",
       "      <th></th>\n",
       "    </tr>\n",
       "  </thead>\n",
       "  <tbody>\n",
       "    <tr>\n",
       "      <th>156.0</th>\n",
       "      <td>5.0</td>\n",
       "    </tr>\n",
       "    <tr>\n",
       "      <th>158.0</th>\n",
       "      <td>5.0</td>\n",
       "    </tr>\n",
       "    <tr>\n",
       "      <th>223.0</th>\n",
       "      <td>5.0</td>\n",
       "    </tr>\n",
       "    <tr>\n",
       "      <th>190.0</th>\n",
       "      <td>4.0</td>\n",
       "    </tr>\n",
       "    <tr>\n",
       "      <th>197.0</th>\n",
       "      <td>4.0</td>\n",
       "    </tr>\n",
       "    <tr>\n",
       "      <th>...</th>\n",
       "      <td>...</td>\n",
       "    </tr>\n",
       "    <tr>\n",
       "      <th>180.0</th>\n",
       "      <td>1.0</td>\n",
       "    </tr>\n",
       "    <tr>\n",
       "      <th>274.0</th>\n",
       "      <td>1.0</td>\n",
       "    </tr>\n",
       "    <tr>\n",
       "      <th>243.0</th>\n",
       "      <td>1.0</td>\n",
       "    </tr>\n",
       "    <tr>\n",
       "      <th>178.0</th>\n",
       "      <td>1.0</td>\n",
       "    </tr>\n",
       "    <tr>\n",
       "      <th>150.0</th>\n",
       "      <td>1.0</td>\n",
       "    </tr>\n",
       "  </tbody>\n",
       "</table>\n",
       "<p>146 rows × 1 columns</p>\n",
       "</div>"
      ],
      "text/plain": [
       "         rating\n",
       "version        \n",
       "156.0       5.0\n",
       "158.0       5.0\n",
       "223.0       5.0\n",
       "190.0       4.0\n",
       "197.0       4.0\n",
       "...         ...\n",
       "180.0       1.0\n",
       "274.0       1.0\n",
       "243.0       1.0\n",
       "178.0       1.0\n",
       "150.0       1.0\n",
       "\n",
       "[146 rows x 1 columns]"
      ]
     },
     "execution_count": 8,
     "metadata": {},
     "output_type": "execute_result"
    }
   ],
   "source": [
    "df_reviews.loc[df_reviews.app == \"Facebook\"].groupby(by=['version']).mean().sort_values(by=['rating'], ascending=False)"
   ]
  },
  {
   "cell_type": "code",
   "execution_count": 9,
   "metadata": {},
   "outputs": [
    {
     "data": {
      "text/plain": [
       "<AxesSubplot:xlabel='index', ylabel='rating'>"
      ]
     },
     "execution_count": 9,
     "metadata": {},
     "output_type": "execute_result"
    },
    {
     "data": {
      "image/png": "[encoded data removed]",
      "text/plain": [
       "<Figure size 432x288 with 1 Axes>"
      ]
     },
     "metadata": {
      "needs_background": "light"
     },
     "output_type": "display_data"
    }
   ],
   "source": [
    "df_reviews.loc[df_reviews.app == \"Facebook\"].groupby(by=['version']).mean().reset_index().reset_index().plot.scatter(x='index', y='rating')"
   ]
  },
  {
   "cell_type": "code",
   "execution_count": 10,
   "metadata": {
    "scrolled": true
   },
   "outputs": [
    {
     "data": {
      "text/html": [
       "<div>\n",
       "<style scoped>\n",
       "    .dataframe tbody tr th:only-of-type {\n",
       "        vertical-align: middle;\n",
       "    }\n",
       "\n",
       "    .dataframe tbody tr th {\n",
       "        vertical-align: top;\n",
       "    }\n",
       "\n",
       "    .dataframe thead th {\n",
       "        text-align: right;\n",
       "    }\n",
       "</style>\n",
       "<table border=\"1\" class=\"dataframe\">\n",
       "  <thead>\n",
       "    <tr style=\"text-align: right;\">\n",
       "      <th></th>\n",
       "      <th>rating</th>\n",
       "    </tr>\n",
       "    <tr>\n",
       "      <th>version</th>\n",
       "      <th></th>\n",
       "    </tr>\n",
       "  </thead>\n",
       "  <tbody>\n",
       "    <tr>\n",
       "      <th>6.37.2</th>\n",
       "      <td>5.0</td>\n",
       "    </tr>\n",
       "    <tr>\n",
       "      <th>6.29</th>\n",
       "      <td>5.0</td>\n",
       "    </tr>\n",
       "    <tr>\n",
       "      <th>7.7</th>\n",
       "      <td>5.0</td>\n",
       "    </tr>\n",
       "    <tr>\n",
       "      <th>7.60</th>\n",
       "      <td>5.0</td>\n",
       "    </tr>\n",
       "    <tr>\n",
       "      <th>6.7.2</th>\n",
       "      <td>5.0</td>\n",
       "    </tr>\n",
       "    <tr>\n",
       "      <th>...</th>\n",
       "      <td>...</td>\n",
       "    </tr>\n",
       "    <tr>\n",
       "      <th>8.25</th>\n",
       "      <td>1.0</td>\n",
       "    </tr>\n",
       "    <tr>\n",
       "      <th>7.22.3</th>\n",
       "      <td>1.0</td>\n",
       "    </tr>\n",
       "    <tr>\n",
       "      <th>8.27</th>\n",
       "      <td>1.0</td>\n",
       "    </tr>\n",
       "    <tr>\n",
       "      <th>8.27.1</th>\n",
       "      <td>1.0</td>\n",
       "    </tr>\n",
       "    <tr>\n",
       "      <th></th>\n",
       "      <td>1.0</td>\n",
       "    </tr>\n",
       "  </tbody>\n",
       "</table>\n",
       "<p>252 rows × 1 columns</p>\n",
       "</div>"
      ],
      "text/plain": [
       "         rating\n",
       "version        \n",
       "6.37.2      5.0\n",
       "6.29        5.0\n",
       "7.7         5.0\n",
       "7.60        5.0\n",
       "6.7.2       5.0\n",
       "...         ...\n",
       "8.25        1.0\n",
       "7.22.3      1.0\n",
       "8.27        1.0\n",
       "8.27.1      1.0\n",
       "            1.0\n",
       "\n",
       "[252 rows x 1 columns]"
      ]
     },
     "execution_count": 10,
     "metadata": {},
     "output_type": "execute_result"
    }
   ],
   "source": [
    "df_reviews.loc[df_reviews.app == \"Twitter\"].groupby(by=['version']).mean().sort_values(by=['rating'], ascending=False)"
   ]
  },
  {
   "cell_type": "code",
   "execution_count": 11,
   "metadata": {},
   "outputs": [
    {
     "data": {
      "text/plain": [
       "<AxesSubplot:xlabel='index', ylabel='rating'>"
      ]
     },
     "execution_count": 11,
     "metadata": {},
     "output_type": "execute_result"
    },
    {
     "data": {
      "image/png": "[encoded data removed]",
      "text/plain": [
       "<Figure size 432x288 with 1 Axes>"
      ]
     },
     "metadata": {
      "needs_background": "light"
     },
     "output_type": "display_data"
    }
   ],
   "source": [
    "df_reviews.loc[df_reviews.app == \"Twitter\"].groupby(by=['version']).mean().reset_index().reset_index().plot.scatter(x='index', y='rating')"
   ]
  },
  {
   "cell_type": "code",
   "execution_count": 12,
   "metadata": {},
   "outputs": [
    {
     "data": {
      "text/plain": [
       "[('to', 55)]"
      ]
     },
     "execution_count": 12,
     "metadata": {},
     "output_type": "execute_result"
    }
   ],
   "source": [
    "Counter(\" \".join(df_reviews.loc[(df_reviews.app == \"Candy Crush\") & (df_reviews.rating == 1)].title).split()).most_common(1)"
   ]
  },
  {
   "cell_type": "code",
   "execution_count": 13,
   "metadata": {},
   "outputs": [
    {
     "data": {
      "text/plain": [
       "[('Candy', 207)]"
      ]
     },
     "execution_count": 13,
     "metadata": {},
     "output_type": "execute_result"
    }
   ],
   "source": [
    "Counter(\" \".join(df_reviews.loc[(df_reviews.app == \"Candy Crush\") & (df_reviews.rating == 5)].title).split()).most_common(1)"
   ]
  },
  {
   "cell_type": "code",
   "execution_count": 14,
   "metadata": {},
   "outputs": [
    {
     "data": {
      "text/plain": [
       "[('for', 268)]"
      ]
     },
     "execution_count": 14,
     "metadata": {},
     "output_type": "execute_result"
    }
   ],
   "source": [
    "Counter(\" \".join(df_reviews.loc[(df_reviews.app == \"Tinder\") & (df_reviews.rating == 1)].title).split()).most_common(1)"
   ]
  },
  {
   "cell_type": "code",
   "execution_count": 15,
   "metadata": {},
   "outputs": [
    {
     "data": {
      "text/plain": [
       "[('app', 20)]"
      ]
     },
     "execution_count": 15,
     "metadata": {},
     "output_type": "execute_result"
    }
   ],
   "source": [
    "Counter(\" \".join(df_reviews.loc[(df_reviews.app == \"Tinder\") & (df_reviews.rating == 5)].title).split()).most_common(1)"
   ]
  },
  {
   "cell_type": "code",
   "execution_count": 16,
   "metadata": {},
   "outputs": [
    {
     "data": {
      "text/plain": [
       "[('Facebook', 144)]"
      ]
     },
     "execution_count": 16,
     "metadata": {},
     "output_type": "execute_result"
    }
   ],
   "source": [
    "Counter(\" \".join(df_reviews.loc[(df_reviews.app == \"Facebook\") & (df_reviews.rating == 1)].title).split()).most_common(1)"
   ]
  },
  {
   "cell_type": "code",
   "execution_count": 17,
   "metadata": {},
   "outputs": [
    {
     "data": {
      "text/plain": [
       "[('Good', 9)]"
      ]
     },
     "execution_count": 17,
     "metadata": {},
     "output_type": "execute_result"
    }
   ],
   "source": [
    "Counter(\" \".join(df_reviews.loc[(df_reviews.app == \"Facebook\") & (df_reviews.rating == 5)].title).split()).most_common(1)"
   ]
  },
  {
   "cell_type": "code",
   "execution_count": 18,
   "metadata": {},
   "outputs": [
    {
     "data": {
      "text/plain": [
       "[('Twitter', 126)]"
      ]
     },
     "execution_count": 18,
     "metadata": {},
     "output_type": "execute_result"
    }
   ],
   "source": [
    "Counter(\" \".join(df_reviews.loc[(df_reviews.app == \"Twitter\") & (df_reviews.rating == 1)].title).split()).most_common(1)"
   ]
  },
  {
   "cell_type": "code",
   "execution_count": 19,
   "metadata": {},
   "outputs": [
    {
     "data": {
      "text/plain": [
       "[('Twitter', 120)]"
      ]
     },
     "execution_count": 19,
     "metadata": {},
     "output_type": "execute_result"
    }
   ],
   "source": [
    "Counter(\" \".join(df_reviews.loc[(df_reviews.app == \"Twitter\") & (df_reviews.rating == 5)].title).split()).most_common(1)"
   ]
  },
  {
   "cell_type": "markdown",
   "metadata": {},
   "source": [
    "# 3 (STRETCH) IMDB scraping\n",
    "\n",
    "IMDB has structured web pages. We can exploit this to scrape movie data.\n",
    "\n",
    "Usinf the following URL:\n",
    "\n",
    "`https://www.imdb.com/search/title/?groups=top_1000&start={PAGE_NUMBER}&ref_=adv_nxt`\n",
    "\n",
    "With the following headers in your `GET` request: `{\"Accept-Language\": \"en-US,en;q=0.5\"}`\n",
    "\n",
    "You can generate a dataframe like this one by cycling over the page numbers in the URL requested:\n",
    "\n",
    "![](IMDB.png)\n",
    "\n",
    "Note that the following  page attribues will be of interest:\n",
    "\n",
    "- `div` with a class of `lister-item mode-advanced`\n",
    "\n",
    "- Various `span` objects within that `div` like `lister-item-year` and `runtime` and `metascore`"
   ]
  },
  {
   "cell_type": "code",
   "execution_count": null,
   "metadata": {},
   "outputs": [],
   "source": []
  }
 ],
 "metadata": {
  "file_extension": ".py",
  "kernelspec": {
   "display_name": "Python 3",
   "language": "python",
   "name": "python3"
  },
  "language_info": {
   "codemirror_mode": {
    "name": "ipython",
    "version": 3
   },
   "file_extension": ".py",
   "mimetype": "text/x-python",
   "name": "python",
   "nbconvert_exporter": "python",
   "pygments_lexer": "ipython3",
   "version": "3.8.5"
  },
  "mimetype": "text/x-python",
  "name": "python",
  "npconvert_exporter": "python",
  "pygments_lexer": "ipython3",
  "version": 3
 },
 "nbformat": 4,
 "nbformat_minor": 2
}
